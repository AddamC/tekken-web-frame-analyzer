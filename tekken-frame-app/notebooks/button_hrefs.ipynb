{
 "metadata": {
  "language_info": {
   "codemirror_mode": {
    "name": "ipython",
    "version": 3
   },
   "file_extension": ".py",
   "mimetype": "text/x-python",
   "name": "python",
   "nbconvert_exporter": "python",
   "pygments_lexer": "ipython3",
   "version": "3.7.3-final"
  },
  "orig_nbformat": 2,
  "kernelspec": {
   "name": "python3",
   "display_name": "Python 3.7.3 64-bit",
   "metadata": {
    "interpreter": {
     "hash": "31f2aee4e71d21fbe5cf8b01ff0e069b9275f58929596ceb00d14d90e3e16cd6"
    }
   }
  }
 },
 "nbformat": 4,
 "nbformat_minor": 2,
 "cells": [
  {
   "cell_type": "code",
   "execution_count": null,
   "metadata": {},
   "outputs": [],
   "source": [
    "import requests\n",
    "import pandas as pd\n",
    "import webbrowser as wb\n",
    "import os\n",
    "from bs4 import BeautifulSoup\n",
    "\n",
    "parsers = {\"html\": \"html.parser\"}\n",
    "data_path = os.getcwd() + \"\\\\tekken-frame-app\\\\data\"\n",
    "tekken7_dpath = data_path + \"\\\\tekken_7\"\n",
    "\n",
    "datasources = {\n",
    "    \"tekken6\": \"http://www.avoidingthepuddle.com/tekken-6-frame-data\",\n",
    "    \"tekkentag2\": \"https://rbnorway.org/ttt2-frame-data/\",\n",
    "    \"tekken7\": \"https://rbnorway.org/t7-frame-data/\"\n",
    "}"
   ]
  },
  {
   "cell_type": "code",
   "execution_count": 8,
   "metadata": {},
   "outputs": [],
   "source": [
    "headers = {'User-Agent': 'Mozilla/5.0 (Macintosh; Intel Mac OS X 10_10_1) AppleWebKit/537.36 (KHTML, like Gecko) Chrome/39.0.2171.95 Safari/537.36'}\n",
    "response = requests.get(datasources[\"tekken7\"], headers=headers)\n",
    "document = BeautifulSoup(response.text[0:], \"html.parser\")"
   ]
  },
  {
   "cell_type": "code",
   "execution_count": 25,
   "metadata": {},
   "outputs": [
    {
     "output_type": "stream",
     "name": "stdout",
     "text": [
      "akuma-t7-frames\nalisa-t7-frames\nanna-t7-frames\narmor-king-t7-frames\nasuka-t7-frames\nbob-t7-frames\nbryan-t7-frames\nclaudio-t7-frames\ndevil-jin-t7-frames\ndragunov-t7-frames\neddy-t7-frames/\neliza-t7-frames/\nfahkumram-t7-frames\nfeng-t7-frames\nganryu-t7-frames\ngeese-t7-frames\ngigas-t7-frames\nheihachi-t7-frames\nHwoarang-t7-frames\njack7-t7-frames\njin-t7-frames\njosie-t7-frames\njulia-t7-frames\nkatarina-t7-frames\nkazumi-t7-frames\nkazuya-t7-frames\nking-t7-frames\nkuma-t7-frames\nkunimitsu-t7-frames\nlars-t7-frames\nhttp://rbnorway.org/law-t7-frames/\nlee-t7-frames\nlei-t7-frame\nleo-t7-frames\nleroy-t7-frames\nlili-t7-frames\nlucky-chloe-t7-frames\nmarduk-t7-frames\nmaster-raven-t7-frames/\nmiguel-t7-frames\nnegan-t7-frames\nnina-t7-frames\nhttp://rbnorway.org/noctis-t7-frames/\npaul-t7-frames\nshaheen-t7-frames\nsteve-t7-frames\nxiaoyu-t7-frames\nhttp://rbnorway.org/yoshimitsu-t7-frames/\nhttp://rbnorway.org/zafina-t7-frames/\n"
     ]
    }
   ],
   "source": [
    "\n",
    "for character in document.select(\"p>a\"):\n",
    "    if character.findChild(\"img\"):\n",
    "        print(character.get(\"href\"))"
   ]
  },
  {
   "cell_type": "code",
   "execution_count": null,
   "metadata": {},
   "outputs": [],
   "source": []
  }
 ]
}