{
 "metadata": {
  "language_info": {
   "codemirror_mode": {
    "name": "ipython",
    "version": 3
   },
   "file_extension": ".py",
   "mimetype": "text/x-python",
   "name": "python",
   "nbconvert_exporter": "python",
   "pygments_lexer": "ipython3",
   "version": "3.7.3-final"
  },
  "orig_nbformat": 2,
  "kernelspec": {
   "name": "python3",
   "display_name": "Python 3"
  }
 },
 "nbformat": 4,
 "nbformat_minor": 2,
 "cells": [
  {
   "cell_type": "code",
   "execution_count": 61,
   "metadata": {},
   "outputs": [],
   "source": [
    "import requests\n",
    "import pandas as pd\n",
    "import webbrowser as wb\n",
    "import os\n",
    "import json\n",
    "from bs4 import BeautifulSoup\n",
    "\n",
    "header = {\"command\": 1, \"hitlevel\": 2, \"damage\": 3, \"Start up frame\": 4,\n",
    "          \"Block frame\": 5, \"Hit frame\": 6, \"Counter Hit frame\": 7, \"Notas\": 8}\n",
    "\n",
    "parsers = {\"html\": \"html.parser\"}\n",
    "data_path = os.getcwd() + \"/tekken-frame-app/data\"\n",
    "tekken7_dpath = data_path + \"/tekken_7\"\n",
    "\n",
    "datasources = {\n",
    "    \"tekken6\": \"http://www.avoidingthepuddle.com/tekken-6-frame-data\",\n",
    "    \"tekkentag2\": \"https://rbnorway.org/ttt2-frame-data/\",\n",
    "    \"tekken7\": \"https://rbnorway.org/t7-frame-data/\"\n",
    "}"
   ]
  },
  {
   "cell_type": "code",
   "execution_count": 24,
   "metadata": {},
   "outputs": [],
   "source": [
    "class Character:\n",
    "    def __init__(self):\n",
    "        self.char_name = ''\n",
    "        self.moves = []\n",
    "\n",
    "    def to_json():\n",
    "        print('to_json method')\n",
    "\n",
    "    def print_self(self):\n",
    "        print('char_name: ' + self.char_name)\n",
    "    "
   ]
  },
  {
   "cell_type": "code",
   "execution_count": 11,
   "metadata": {},
   "outputs": [],
   "source": [
    "def get_html_data(url, parser):\n",
    "    headers = {\n",
    "        'User-Agent': 'Mozilla/5.0 (Macintosh; Intel Mac OS X 10_10_1) AppleWebKit/537.36 (KHTML, like Gecko) Chrome/39.0.2171.95 Safari/537.36'}\n",
    "    response = requests.get(url, headers=headers)\n",
    "    soup = BeautifulSoup(response.text[0:], parser)\n",
    "    return soup"
   ]
  },
  {
   "cell_type": "code",
   "execution_count": 42,
   "metadata": {},
   "outputs": [
    {
     "output_type": "stream",
     "name": "stdout",
     "text": [
      "acquiring frame data from: miguel\n"
     ]
    }
   ],
   "source": [
    "get_local = False\n",
    "characters = [\"akuma\", \"king\", \"miguel\", \"xiaoyu\", \"alisa\", \"jin\", \"gigas\", \"hwoarang\", \"claudio\", \"noctis\", \"law\", \"kazuya\", \"heihachi\", \"lars\", \"nina\", \"katarina\"]\n",
    "\n",
    "character = characters[2]\n",
    "print(\"acquiring frame data from: \" + character)\n",
    "file_name = data_path + \"/tekken_7/\" + character + \".html\"\n",
    "\n",
    "if get_local:\n",
    "    html_file = open(file_name, \"r\")\n",
    "    document = BeautifulSoup(html_file, 'html.parser')\n",
    "    table = document.find(\"table\")\n",
    "else:\n",
    "    url = \"https://rbnorway.org/\" + character + \"-t7-frames\"\n",
    "    document = get_html_data(url, \"html.parser\")\n",
    "    table = document.find_all(\"table\")[0]  # Pega a primeira tabela\n",
    "    moveset_data = table.find_all(\"tr\")[1:]"
   ]
  },
  {
   "cell_type": "code",
   "execution_count": 60,
   "metadata": {},
   "outputs": [
    {
     "output_type": "stream",
     "name": "stdout",
     "text": [
      "in rage b+1+2 in rage SAV b+1+2\nin rage d/b+1+2\nin rage d/b+1+2 (Second hit miss)\n1\n1, 2\n1, 2, 4\n1, 2, 4, F\n1, 2, 1+2\n1, 3\n2\n2, 1\n2, 1, f\n3\n3, 4\n4\n1+2\n1+2, d\n1+2, 1+2\nf+2\nf+2, 1\nf+3\nf+3, 4\nf+4\nf+4, F\nf+4, 2\nf+1+2\nf+3+4\nf+3+4, F\nf+2+3\nd/f+1\nd/f+1, F\nd/f+1, 1\nd/f+1, 1, F\nd/f+1, 1, 2\nd/f+1, 1, 3\nd/f+1, 1, 3, F\nd/f+1, 2\nd/f+2\nd/f+2, 1\nd/f+2, 2\nd/f+2, d+2\nd/f+3\nd/f+3, 2\nd/f+4\nd/f+4, 1\nd/f+4, 1, f\nd/f+4, 1, 1\nd+2\nd+3\nd+4\nd+4, 1+2\nd+4, 1+2, f\nd+1+2\nd+3+4\nd/b+1\nd/b+1*\nd/b+2\nd/b+3\nd/b+3, f\nd/b+3, 4\nd/b+4\nb+1\nb+1, F\nb+2\nb+2, 2\nb+3\nb+3, f\nb+4\nu/b+1\nu/b+1, f\nu/b+1, 4\nu/f+1\nu/f+1, F\nu/b+3\nu+3\nu/f+3\nu/f+3, 2\nu/f+3, 2, 2\nu/b+4\nu+4\nu/f+4\nf, F+2\nf, F+2, 1\nf, F+2, 2\nf, F+2, 2, d (Cancel)\nf, F+3\nb, f+1\nb, d/f+4\nb, d/f+4, F\nf, f, f+3 or WR+3\nWS+1\nWS+1, F\nWS+2\nWS+2, 2\nWS+2, 2, 2\nWS+2, 4\nWS+3\nWS+4\nWS+1+2\nFC+d/f+2\nFC+d/f+4\nOpponent Down d+3\n1+4\n3+4 or From certain moves, F (to SAV)\nSAV 1\nSAV 1, F\nSAV 1, 1\nSAV 1, 2\nSAV 1, 2, F\nSAV 1, 2, 1\nSAV 1, 4\nSAV 2\nSAV 3\nSAV 3, F\nSAV 3, 3\nSAV 3, 3, F\nSAV 4\nSAV 1+2\nSAV 1+2*\nSAV f+1+2\nSAV f+1+2, F\nSAV d/f+1\nSAV d/f+1, F\nSAV d/f+2\nSAV d+4\nSAV d+4, F\nSAV d+4, 3\nSAV d+4, 3, F\nSAV d/b+3\nSAV d/b+3, F\nSAV d/b+4\nSAV b+1\nSAV b+1, F\nSAV b+1, 2\nSAV b+1, 4\nSAV b+2\nSAV b+3\nSAV b+3, F\nSAV u/f+3\nSAV , ,\n"
     ]
    }
   ],
   "source": [
    "c = Character()\n",
    "moveset = [move_data.get_text().split('\\n') for move_data in moveset_data]\n",
    "\n",
    "for m in moveset:\n",
    "    print(m[1])\n",
    "    c.move_input = m[1]"
   ]
  },
  {
   "cell_type": "code",
   "execution_count": 58,
   "metadata": {},
   "outputs": [
    {
     "output_type": "execute_result",
     "data": {
      "text/plain": [
       "['',\n",
       " 'in rage b+1+2 in rage SAV b+1+2',\n",
       " 'm',\n",
       " '55',\n",
       " '20 pc8~17',\n",
       " '-22',\n",
       " 'KND',\n",
       " 'KND',\n",
       " 'Rage art',\n",
       " '']"
      ]
     },
     "metadata": {},
     "execution_count": 58
    }
   ],
   "source": [
    "moveset[0]"
   ]
  },
  {
   "cell_type": "code",
   "execution_count": 62,
   "metadata": {},
   "outputs": [
    {
     "output_type": "execute_result",
     "data": {
      "text/plain": [
       "'{\"char_name\": \"\", \"moves\": [], \"move_input\": \"SAV , ,\"}'"
      ]
     },
     "metadata": {},
     "execution_count": 62
    }
   ],
   "source": [
    "json.dumps(c.__dict__)"
   ]
  },
  {
   "cell_type": "code",
   "execution_count": null,
   "metadata": {},
   "outputs": [],
   "source": []
  }
 ]
}